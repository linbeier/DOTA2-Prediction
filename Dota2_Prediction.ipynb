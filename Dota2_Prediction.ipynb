{
  "nbformat": 4,
  "nbformat_minor": 0,
  "metadata": {
    "colab": {
      "name": "Dota2 Prediction.ipynb",
      "provenance": []
    },
    "kernelspec": {
      "name": "python3",
      "display_name": "Python 3"
    },
    "language_info": {
      "name": "python"
    }
  },
  "cells": [
    {
      "cell_type": "code",
      "metadata": {
        "colab": {
          "base_uri": "https://localhost:8080/"
        },
        "id": "P5S3rxn3vC34",
        "outputId": "6d018adb-1700-43c9-c4af-c09d4248233f"
      },
      "source": [
        "from sklearn.metrics import accuracy_score\n",
        "from sklearn.ensemble import RandomForestClassifier\n",
        "from sklearn.utils import shuffle\n",
        "from sklearn import tree\n",
        "import numpy as np\n",
        "import pandas as pd\n",
        "import csv\n",
        "\n",
        "Train = pd.read_csv('/content/dota2Train.csv')\n",
        "Test = pd.read_csv('/content/dota2Test.csv')\n",
        "Train = shuffle(Train)\n",
        "print((Train.shape))\n",
        "\n",
        "Xtr = Train.iloc[:,1:]\n",
        "Ytr = Train.iloc[:,0]\n",
        "\n",
        "\n",
        "Xte = Test.iloc[:,1:]\n",
        "Yte = Test.iloc[:,0]\n"
      ],
      "execution_count": 15,
      "outputs": [
        {
          "output_type": "stream",
          "name": "stdout",
          "text": [
            "(92649, 117)\n"
          ]
        }
      ]
    },
    {
      "cell_type": "code",
      "metadata": {
        "id": "muFaUlIzwS4N"
      },
      "source": [
        ""
      ],
      "execution_count": null,
      "outputs": []
    },
    {
      "cell_type": "code",
      "metadata": {
        "id": "PN8Rx5V-vzDK"
      },
      "source": [
        "clf = RandomForestClassifier(random_state=0)\n",
        "clf.fit(Xtr, Ytr)\n",
        "y_predict = clf.predict(Xte)\n",
        "print('Random Forest',accuracy_score(y_predict,Yte))\n"
      ],
      "execution_count": null,
      "outputs": []
    },
    {
      "cell_type": "code",
      "metadata": {
        "id": "f0nYVI3xv6lU"
      },
      "source": [
        "decisionTree = tree.DecisionTreeClassifier()\n",
        "decisionTree.fit(Xtr, Ytr)\n",
        "print('Decision Tree',accuracy_score(decisionTree.predict(Xte),Yte))"
      ],
      "execution_count": null,
      "outputs": []
    },
    {
      "cell_type": "code",
      "metadata": {
        "colab": {
          "base_uri": "https://localhost:8080/"
        },
        "id": "18ZpOmO2wAKm",
        "outputId": "eeb95a18-12aa-4674-f5a2-2babb691e4dd"
      },
      "source": [
        "from sklearn import linear_model\n",
        "from sklearn.model_selection import cross_val_score\n",
        "from sklearn.model_selection import GridSearchCV\n",
        "grid_values = {'penalty': ['l1','l2'], 'C': [0.001,0.01,0.1,1,10,100,1000]}\n",
        "\n",
        "lr = linear_model.LogisticRegression(max_iter=500)\n",
        "clf = GridSearchCV(lr, grid_values, scoring = 'roc_auc')\n",
        "clf.fit(Xtr, Ytr)\n",
        "print(clf.cv_results_)\n",
        "\n",
        "print(\"best parameters: \", clf.best_params_)\n",
        "print(\"best auc: \", clf.best_score_)\n",
        "bestlr = clf.best_estimator_\n",
        "print('lr best accuracy:',accuracy_score(bestlr.predict(Xte),Yte))"
      ],
      "execution_count": 17,
      "outputs": [
        {
          "output_type": "stream",
          "name": "stderr",
          "text": [
            "/usr/local/lib/python3.7/dist-packages/sklearn/model_selection/_validation.py:372: FitFailedWarning: \n",
            "35 fits failed out of a total of 70.\n",
            "The score on these train-test partitions for these parameters will be set to nan.\n",
            "If these failures are not expected, you can try to debug them by setting error_score='raise'.\n",
            "\n",
            "Below are more details about the failures:\n",
            "--------------------------------------------------------------------------------\n",
            "35 fits failed with the following error:\n",
            "Traceback (most recent call last):\n",
            "  File \"/usr/local/lib/python3.7/dist-packages/sklearn/model_selection/_validation.py\", line 681, in _fit_and_score\n",
            "    estimator.fit(X_train, y_train, **fit_params)\n",
            "  File \"/usr/local/lib/python3.7/dist-packages/sklearn/linear_model/_logistic.py\", line 1461, in fit\n",
            "    solver = _check_solver(self.solver, self.penalty, self.dual)\n",
            "  File \"/usr/local/lib/python3.7/dist-packages/sklearn/linear_model/_logistic.py\", line 449, in _check_solver\n",
            "    % (solver, penalty)\n",
            "ValueError: Solver lbfgs supports only 'l2' or 'none' penalties, got l1 penalty.\n",
            "\n",
            "  warnings.warn(some_fits_failed_message, FitFailedWarning)\n",
            "/usr/local/lib/python3.7/dist-packages/sklearn/model_selection/_search.py:972: UserWarning: One or more of the test scores are non-finite: [       nan 0.63048045        nan 0.63500846        nan 0.63524343\n",
            "        nan 0.63524065        nan 0.6352228         nan 0.6352427\n",
            "        nan 0.63521327]\n",
            "  category=UserWarning,\n"
          ]
        },
        {
          "output_type": "stream",
          "name": "stdout",
          "text": [
            "{'mean_fit_time': array([0.03001342, 3.28752337, 0.03405714, 6.03324547, 0.03413987,\n",
            "       7.46746917, 0.03400989, 7.67644763, 0.03434491, 7.84993129,\n",
            "       0.03439999, 7.39080186, 0.03384047, 7.84817705]), 'std_fit_time': array([0.0025123 , 0.99620124, 0.0049879 , 1.3835839 , 0.00527148,\n",
            "       0.78000567, 0.00506857, 0.90463148, 0.00483062, 1.07919379,\n",
            "       0.00462107, 2.02889639, 0.00502575, 1.63274296]), 'mean_score_time': array([0.        , 0.03357239, 0.        , 0.03116202, 0.        ,\n",
            "       0.03294115, 0.        , 0.03165827, 0.        , 0.03424387,\n",
            "       0.        , 0.03254023, 0.        , 0.03195124]), 'std_score_time': array([0.        , 0.00444562, 0.        , 0.002305  , 0.        ,\n",
            "       0.0025073 , 0.        , 0.0022471 , 0.        , 0.00553834,\n",
            "       0.        , 0.00333848, 0.        , 0.00173559]), 'param_C': masked_array(data=[0.001, 0.001, 0.01, 0.01, 0.1, 0.1, 1, 1, 10, 10, 100,\n",
            "                   100, 1000, 1000],\n",
            "             mask=[False, False, False, False, False, False, False, False,\n",
            "                   False, False, False, False, False, False],\n",
            "       fill_value='?',\n",
            "            dtype=object), 'param_penalty': masked_array(data=['l1', 'l2', 'l1', 'l2', 'l1', 'l2', 'l1', 'l2', 'l1',\n",
            "                   'l2', 'l1', 'l2', 'l1', 'l2'],\n",
            "             mask=[False, False, False, False, False, False, False, False,\n",
            "                   False, False, False, False, False, False],\n",
            "       fill_value='?',\n",
            "            dtype=object), 'params': [{'C': 0.001, 'penalty': 'l1'}, {'C': 0.001, 'penalty': 'l2'}, {'C': 0.01, 'penalty': 'l1'}, {'C': 0.01, 'penalty': 'l2'}, {'C': 0.1, 'penalty': 'l1'}, {'C': 0.1, 'penalty': 'l2'}, {'C': 1, 'penalty': 'l1'}, {'C': 1, 'penalty': 'l2'}, {'C': 10, 'penalty': 'l1'}, {'C': 10, 'penalty': 'l2'}, {'C': 100, 'penalty': 'l1'}, {'C': 100, 'penalty': 'l2'}, {'C': 1000, 'penalty': 'l1'}, {'C': 1000, 'penalty': 'l2'}], 'split0_test_score': array([       nan, 0.63308633,        nan, 0.63782151,        nan,\n",
            "       0.63813237,        nan, 0.63805304,        nan, 0.63810389,\n",
            "              nan, 0.63805244,        nan, 0.63820192]), 'split1_test_score': array([       nan, 0.63185362,        nan, 0.63576799,        nan,\n",
            "       0.63579094,        nan, 0.635792  ,        nan, 0.63574883,\n",
            "              nan, 0.63571779,        nan, 0.6357393 ]), 'split2_test_score': array([       nan, 0.63563012,        nan, 0.64168495,        nan,\n",
            "       0.6423092 ,        nan, 0.64239368,        nan, 0.64233817,\n",
            "              nan, 0.64243862,        nan, 0.64222136]), 'split3_test_score': array([       nan, 0.62469525,        nan, 0.62896699,        nan,\n",
            "       0.62917119,        nan, 0.6291218 ,        nan, 0.62916622,\n",
            "              nan, 0.62924115,        nan, 0.62917634]), 'split4_test_score': array([       nan, 0.62713695,        nan, 0.63080087,        nan,\n",
            "       0.63081343,        nan, 0.6308427 ,        nan, 0.63075686,\n",
            "              nan, 0.63076349,        nan, 0.63072744]), 'mean_test_score': array([       nan, 0.63048045,        nan, 0.63500846,        nan,\n",
            "       0.63524343,        nan, 0.63524065,        nan, 0.6352228 ,\n",
            "              nan, 0.6352427 ,        nan, 0.63521327]), 'std_test_score': array([       nan, 0.00399607,        nan, 0.00463182,        nan,\n",
            "       0.00479725,        nan, 0.00481999,        nan, 0.00481316,\n",
            "              nan, 0.0048163 ,        nan, 0.00479352]), 'rank_test_score': array([ 8,  7,  9,  6, 10,  1, 11,  3, 12,  4, 13,  2, 14,  5],\n",
            "      dtype=int32)}\n",
            "best parameters:  {'C': 0.1, 'penalty': 'l2'}\n",
            "best auc:  0.6352434250534037\n",
            "lr best accuracy: 0.5972991353346935\n"
          ]
        },
        {
          "output_type": "stream",
          "name": "stderr",
          "text": [
            "/usr/local/lib/python3.7/dist-packages/sklearn/base.py:488: FutureWarning: The feature names should match those that were passed during fit. Starting version 1.2, an error will be raised.\n",
            "Feature names unseen at fit time:\n",
            "- 8\n",
            "Feature names seen at fit time, yet now missing:\n",
            "- 2.1\n",
            "\n",
            "  warnings.warn(message, FutureWarning)\n"
          ]
        }
      ]
    },
    {
      "cell_type": "code",
      "metadata": {
        "colab": {
          "base_uri": "https://localhost:8080/"
        },
        "id": "dsO5ghmpyNJQ",
        "outputId": "63bbfa05-aec0-4dbe-a3e9-354e3082f371"
      },
      "source": [
        "# from sklearn import linear_model\n",
        "# # only heros are selected\n",
        "# LogisticRegression = linear_model.LogisticRegression(max_iter = 200)\n",
        "# LogisticRegression.fit(Xtr.iloc[:,1:], Ytr)\n",
        "# print('Logistic Classifier',accuracy_score(LogisticRegression.predict(Xte.iloc[:,1:]),Yte))"
      ],
      "execution_count": 6,
      "outputs": [
        {
          "output_type": "stream",
          "name": "stdout",
          "text": [
            "Logistic Classifier 0.6094433109880502\n"
          ]
        }
      ]
    },
    {
      "cell_type": "code",
      "metadata": {
        "id": "eLpOMaEAwEOf"
      },
      "source": [
        "from sklearn import svm\n",
        "param = {'C' : [0.001,0.01,0.1,1,10,100,1000], 'kernel' : ['linear', 'poly', 'rbf', 'sigmoid'], 'degree' : [3, 5, 7, 11, 21], 'gamma' : ['auto', 'scale'], 'class_weight' : ['balanced']}\n",
        "\n",
        "SVM = svm.SVC()\n",
        "clf = GridSearchCV(SVM, param, scoring = 'roc_auc')\n",
        "clf.fit(Xtr, Ytr)\n",
        "print(clf.cv_results_)\n",
        "\n",
        "print(\"best parameters: \", clf.best_params_)\n",
        "print(\"best auc: \", clf.best_score_)\n",
        "bestsvm = clf.best_estimator_\n",
        "print('svm best accuracy:',accuracy_score(bestsvm.predict(Xte),Yte))"
      ],
      "execution_count": null,
      "outputs": []
    },
    {
      "cell_type": "code",
      "metadata": {
        "colab": {
          "base_uri": "https://localhost:8080/"
        },
        "id": "PwbUq8CADe-Z",
        "outputId": "e9c955b5-13c2-429b-9cad-acf7fbd4ce89"
      },
      "source": [
        "from sklearn.neighbors import KNeighborsClassifier\n",
        "neigh = KNeighborsClassifier(n_neighbors=10, weights='distance', p=2)\n",
        "# knn Classifier 0.5200621781793452     k=5, weights=distance, p=1(manhatten)\n",
        "# knn Classifier 0.5297775187020305     k=5, weights=distance, p=2\n",
        "# knn Classifier 0.5297775187020305     k=5, weights=uniform, p=2\n",
        "# knn Classifier 0.5365782570679102     k=10, weights=distance, p=2\n",
        "neigh.fit(Xtr.values, Ytr.values)\n",
        "print('knn Classifier',accuracy_score(neigh.predict(Xte),Yte))"
      ],
      "execution_count": 4,
      "outputs": [
        {
          "output_type": "stream",
          "name": "stderr",
          "text": [
            "/usr/local/lib/python3.7/dist-packages/sklearn/base.py:439: UserWarning: X has feature names, but KNeighborsClassifier was fitted without feature names\n",
            "  f\"X has feature names, but {self.__class__.__name__} was fitted without\"\n"
          ]
        },
        {
          "output_type": "stream",
          "name": "stdout",
          "text": [
            "knn Classifier 0.5365782570679102\n"
          ]
        }
      ]
    }
  ]
}