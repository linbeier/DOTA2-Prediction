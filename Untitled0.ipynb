{
  "nbformat": 4,
  "nbformat_minor": 0,
  "metadata": {
    "colab": {
      "name": "Untitled0.ipynb",
      "provenance": [],
      "authorship_tag": "ABX9TyMfrP07USt2WlLc1tWzUGCv",
      "include_colab_link": true
    },
    "kernelspec": {
      "name": "python3",
      "display_name": "Python 3"
    },
    "language_info": {
      "name": "python"
    }
  },
  "cells": [
    {
      "cell_type": "markdown",
      "metadata": {
        "id": "view-in-github",
        "colab_type": "text"
      },
      "source": [
        "<a href=\"https://colab.research.google.com/github/linbeier/DOTA2-Prediction/blob/master/Untitled0.ipynb\" target=\"_parent\"><img src=\"https://colab.research.google.com/assets/colab-badge.svg\" alt=\"Open In Colab\"/></a>"
      ]
    },
    {
      "cell_type": "code",
      "metadata": {
        "colab": {
          "base_uri": "https://localhost:8080/"
        },
        "id": "OuzjzTj8GZzw",
        "outputId": "3a8f88a6-2be9-48b2-eed0-61b2706a4814"
      },
      "source": [
        "from sklearn.metrics import accuracy_score\n",
        "from sklearn.ensemble import RandomForestClassifier\n",
        "from sklearn import tree\n",
        "import numpy as np\n",
        "import pandas as pd\n",
        "import csv\n",
        "\n",
        "Train = pd.read_csv('/content/dota2Train.csv')\n",
        "Test = pd.read_csv('/content/dota2Test.csv')\n",
        "# csv_reader = csv.reader(open(\"./data.csv\"))\n",
        "# Train = np.ndarray(Train)\n",
        "print((Train.shape))\n",
        "\n",
        "Xtr = Train.iloc[:,1:]\n",
        "Ytr = Train.iloc[:,0]\n",
        "\n",
        "Xte = Test.iloc[:,1:]\n",
        "Yte = Test.iloc[:,0]\n",
        "\n",
        "\n",
        "\n",
        "clf = RandomForestClassifier(random_state=0)\n",
        "# X = [[ 1,  2,  3],  # 2 samples, 3 features\n",
        "#      [11, 12, 13]]\n",
        "# y = [0, 1]  # classes of each sample\n",
        "clf.fit(Xtr, Ytr)\n",
        "y_predict = clf.predict(Xte)\n"
      ],
      "execution_count": 21,
      "outputs": [
        {
          "output_type": "stream",
          "name": "stdout",
          "text": [
            "(92649, 117)\n"
          ]
        },
        {
          "output_type": "stream",
          "name": "stderr",
          "text": [
            "/usr/local/lib/python3.7/dist-packages/sklearn/base.py:488: FutureWarning: The feature names should match those that were passed during fit. Starting version 1.2, an error will be raised.\n",
            "Feature names unseen at fit time:\n",
            "- 8\n",
            "Feature names seen at fit time, yet now missing:\n",
            "- 2.1\n",
            "\n",
            "  warnings.warn(message, FutureWarning)\n"
          ]
        }
      ]
    },
    {
      "cell_type": "code",
      "metadata": {
        "colab": {
          "base_uri": "https://localhost:8080/"
        },
        "id": "kz-UHHSzB8Uh",
        "outputId": "96ff9fb4-35b5-40ef-dc3d-034409ea46b7"
      },
      "source": [
        "print('Random Forest',accuracy_score(y_predict,Yte))\n",
        "\n",
        "\n",
        "decisionTree = tree.DecisionTreeClassifier()\n",
        "decisionTree.fit(Xtr, Ytr)\n",
        "print('Decision Tree',accuracy_score(decisionTree.predict(Xte),Yte))\n",
        "\n"
      ],
      "execution_count": 24,
      "outputs": [
        {
          "output_type": "stream",
          "name": "stdout",
          "text": [
            "Random Forest 0.5778684542893229\n",
            "Decision Tree 0.5187991839113961\n"
          ]
        },
        {
          "output_type": "stream",
          "name": "stderr",
          "text": [
            "/usr/local/lib/python3.7/dist-packages/sklearn/base.py:488: FutureWarning: The feature names should match those that were passed during fit. Starting version 1.2, an error will be raised.\n",
            "Feature names unseen at fit time:\n",
            "- 8\n",
            "Feature names seen at fit time, yet now missing:\n",
            "- 2.1\n",
            "\n",
            "  warnings.warn(message, FutureWarning)\n"
          ]
        }
      ]
    },
    {
      "cell_type": "code",
      "metadata": {
        "colab": {
          "base_uri": "https://localhost:8080/"
        },
        "id": "zyCP-NZAVYsI",
        "outputId": "f17cd71e-62c8-4717-fb13-bc5f3b51561b"
      },
      "source": [
        "from sklearn import linear_model\n",
        "LogisticRegression = linear_model.LogisticRegression()\n",
        "LogisticRegression.fit(Xtr, Ytr)\n",
        "print('Logistic Classifier',accuracy_score(LogisticRegression.predict(Xte),Yte))\n"
      ],
      "execution_count": 27,
      "outputs": [
        {
          "output_type": "stream",
          "name": "stdout",
          "text": [
            "Logistic Classifier 0.5980763625765083\n"
          ]
        },
        {
          "output_type": "stream",
          "name": "stderr",
          "text": [
            "/usr/local/lib/python3.7/dist-packages/sklearn/linear_model/_logistic.py:818: ConvergenceWarning: lbfgs failed to converge (status=1):\n",
            "STOP: TOTAL NO. of ITERATIONS REACHED LIMIT.\n",
            "\n",
            "Increase the number of iterations (max_iter) or scale the data as shown in:\n",
            "    https://scikit-learn.org/stable/modules/preprocessing.html\n",
            "Please also refer to the documentation for alternative solver options:\n",
            "    https://scikit-learn.org/stable/modules/linear_model.html#logistic-regression\n",
            "  extra_warning_msg=_LOGISTIC_SOLVER_CONVERGENCE_MSG,\n",
            "/usr/local/lib/python3.7/dist-packages/sklearn/base.py:488: FutureWarning: The feature names should match those that were passed during fit. Starting version 1.2, an error will be raised.\n",
            "Feature names unseen at fit time:\n",
            "- 8\n",
            "Feature names seen at fit time, yet now missing:\n",
            "- 2.1\n",
            "\n",
            "  warnings.warn(message, FutureWarning)\n"
          ]
        }
      ]
    },
    {
      "cell_type": "code",
      "metadata": {
        "colab": {
          "base_uri": "https://localhost:8080/"
        },
        "id": "drAUo2WzY89H",
        "outputId": "5e142189-b767-46aa-a398-e5e3b16c1a3d"
      },
      "source": [
        "from sklearn import svm\n",
        "\n",
        "SVM = svm.SVC()\n",
        "SVM.fit(Xtr, Ytr)\n",
        "print('SVM',accuracy_score(SVM.predict(Xte),Yte))"
      ],
      "execution_count": 29,
      "outputs": [
        {
          "output_type": "stream",
          "name": "stderr",
          "text": [
            "/usr/local/lib/python3.7/dist-packages/sklearn/base.py:488: FutureWarning: The feature names should match those that were passed during fit. Starting version 1.2, an error will be raised.\n",
            "Feature names unseen at fit time:\n",
            "- 8\n",
            "Feature names seen at fit time, yet now missing:\n",
            "- 2.1\n",
            "\n",
            "  warnings.warn(message, FutureWarning)\n"
          ]
        },
        {
          "output_type": "stream",
          "name": "stdout",
          "text": [
            "SVM 0.5345380355581463\n"
          ]
        }
      ]
    },
    {
      "cell_type": "markdown",
      "metadata": {
        "id": "6qtVb175HN_3"
      },
      "source": [
        "# 新段落"
      ]
    }
  ]
}